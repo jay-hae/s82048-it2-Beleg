{
 "cells": [
  {
   "cell_type": "code",
   "execution_count": null,
   "id": "5786b679-c43e-42df-9df6-a12a027b3457",
   "metadata": {},
   "outputs": [],
   "source": [
    "import numpy as np\n",
    "import matplotlib.pyplot as plt"
   ]
  },
  {
   "cell_type": "code",
   "execution_count": null,
   "id": "a7b008ad-662f-4908-9cef-ac6f284bac46",
   "metadata": {},
   "outputs": [],
   "source": [
    "p = np.linspace(0,1)\n",
    "\n",
    "k = [2, 3, 5, 10, 20, 48]\n",
    "p_rest = []\n",
    "for i in range(0,len(k)):\n",
    "    y = 1 - ((1-p\n",
    "    p_rest.append()\n",
    "    "
   ]
  }
 ],
 "metadata": {
  "kernelspec": {
   "display_name": "Python 3 (ipykernel)",
   "language": "python",
   "name": "python3"
  },
  "language_info": {
   "codemirror_mode": {
    "name": "ipython",
    "version": 3
   },
   "file_extension": ".py",
   "mimetype": "text/x-python",
   "name": "python",
   "nbconvert_exporter": "python",
   "pygments_lexer": "ipython3",
   "version": "3.8.10"
  }
 },
 "nbformat": 4,
 "nbformat_minor": 5
}
